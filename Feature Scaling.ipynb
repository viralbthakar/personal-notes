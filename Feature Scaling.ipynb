{
 "cells": [
  {
   "attachments": {},
   "cell_type": "markdown",
   "metadata": {},
   "source": [
    "# Feature Scaling"
   ]
  },
  {
   "attachments": {},
   "cell_type": "markdown",
   "metadata": {},
   "source": [
    "## What is Feature Scaling?"
   ]
  },
  {
   "attachments": {},
   "cell_type": "markdown",
   "metadata": {},
   "source": [
    "> Feature Scaling is the process of bringing all of our features to the same or very similar ranges of values or distribution. — **Machine Learning Engineering by Andriy Burkov** [URL](http://mlebook.com/)"
   ]
  },
  {
   "attachments": {},
   "cell_type": "markdown",
   "metadata": {},
   "source": [
    "## Why do we need Feature Scaling?"
   ]
  },
  {
   "attachments": {},
   "cell_type": "markdown",
   "metadata": {},
   "source": [
    "- Most of the Machine Learning Algorithms show `significantly better results` when the features are transformed into the same or very similar range, `i.e. a fixed scale`.\n",
    "\n",
    "- To understand the importance of feature scaling, we are going to use the `diabetes` dataset from the [Source](https://www4.stat.ncsu.edu/~boos/var.select/diabetes.html).\n",
    "\n",
    "- Here we are considering a problem of estimating a quantitative measure of diabetes disease progression one year after baseline using the ten baseline variables, `age`, `sex`, `body mass index`, `average blood pressure`, and six `blood serum measurements`.\n",
    "\n",
    "- **Dataset Description**\n",
    "    - `age`: age in years\n",
    "    - `sex` : gender\n",
    "    - `bmi`: body mass index\n",
    "    - `bp`: average blood pressure\n",
    "    - `s1`: tc, total serum cholesterol\n",
    "    - `s2`: ldl, low-density lipoproteins\n",
    "    - `s3`: hdl, high-density lipoproteins\n",
    "    - `s4`: tch, total cholesterol / HDL\n",
    "    - `s5`: ltg, possibly log of serum triglycerides level\n",
    "    - `s6`: glu, blood sugar level\n",
    "    - `target`: a quantitative measure of diabetes disease progression one year after baseline"
   ]
  },
  {
   "attachments": {},
   "cell_type": "markdown",
   "metadata": {},
   "source": [
    "### Import Necessary Packages"
   ]
  },
  {
   "cell_type": "code",
   "execution_count": 1,
   "metadata": {},
   "outputs": [],
   "source": [
    "# Import Necessary Packages\n",
    "import numpy as np\n",
    "import pandas as pd\n",
    "import seaborn as sns\n",
    "import matplotlib.pyplot as plt\n",
    "from sklearn.datasets import load_diabetes\n",
    "from sklearn.preprocessing import MinMaxScaler"
   ]
  },
  {
   "attachments": {},
   "cell_type": "markdown",
   "metadata": {},
   "source": [
    "### Dataset Description"
   ]
  },
  {
   "cell_type": "code",
   "execution_count": 2,
   "metadata": {},
   "outputs": [
    {
     "name": "stdout",
     "output_type": "stream",
     "text": [
      "The input features are of type <class 'pandas.core.frame.DataFrame'>\n",
      "The target is of type <class 'pandas.core.series.Series'>\n"
     ]
    }
   ],
   "source": [
    "# Load the Dataset\n",
    "X, targets = load_diabetes(\n",
    "    return_X_y=True, # Return Input Features and Target\n",
    "    as_frame=True, # Return Input Features and Target as Pandas Dataframe\n",
    "    scaled=False # Return Input Features and Target is NOT Scaled\n",
    ")\n",
    "print(f\"The input features are of type {type(X)}\")\n",
    "print(f\"The target is of type {type(targets)}\")"
   ]
  },
  {
   "cell_type": "code",
   "execution_count": 3,
   "metadata": {},
   "outputs": [
    {
     "data": {
      "text/html": [
       "<div>\n",
       "<style scoped>\n",
       "    .dataframe tbody tr th:only-of-type {\n",
       "        vertical-align: middle;\n",
       "    }\n",
       "\n",
       "    .dataframe tbody tr th {\n",
       "        vertical-align: top;\n",
       "    }\n",
       "\n",
       "    .dataframe thead th {\n",
       "        text-align: right;\n",
       "    }\n",
       "</style>\n",
       "<table border=\"1\" class=\"dataframe\">\n",
       "  <thead>\n",
       "    <tr style=\"text-align: right;\">\n",
       "      <th></th>\n",
       "      <th>age</th>\n",
       "      <th>sex</th>\n",
       "      <th>bmi</th>\n",
       "      <th>bp</th>\n",
       "      <th>s1</th>\n",
       "      <th>s2</th>\n",
       "      <th>s3</th>\n",
       "      <th>s4</th>\n",
       "      <th>s5</th>\n",
       "      <th>s6</th>\n",
       "    </tr>\n",
       "  </thead>\n",
       "  <tbody>\n",
       "    <tr>\n",
       "      <th>0</th>\n",
       "      <td>59.0</td>\n",
       "      <td>2.0</td>\n",
       "      <td>32.1</td>\n",
       "      <td>101.0</td>\n",
       "      <td>157.0</td>\n",
       "      <td>93.2</td>\n",
       "      <td>38.0</td>\n",
       "      <td>4.00</td>\n",
       "      <td>4.8598</td>\n",
       "      <td>87.0</td>\n",
       "    </tr>\n",
       "    <tr>\n",
       "      <th>1</th>\n",
       "      <td>48.0</td>\n",
       "      <td>1.0</td>\n",
       "      <td>21.6</td>\n",
       "      <td>87.0</td>\n",
       "      <td>183.0</td>\n",
       "      <td>103.2</td>\n",
       "      <td>70.0</td>\n",
       "      <td>3.00</td>\n",
       "      <td>3.8918</td>\n",
       "      <td>69.0</td>\n",
       "    </tr>\n",
       "    <tr>\n",
       "      <th>2</th>\n",
       "      <td>72.0</td>\n",
       "      <td>2.0</td>\n",
       "      <td>30.5</td>\n",
       "      <td>93.0</td>\n",
       "      <td>156.0</td>\n",
       "      <td>93.6</td>\n",
       "      <td>41.0</td>\n",
       "      <td>4.00</td>\n",
       "      <td>4.6728</td>\n",
       "      <td>85.0</td>\n",
       "    </tr>\n",
       "    <tr>\n",
       "      <th>3</th>\n",
       "      <td>24.0</td>\n",
       "      <td>1.0</td>\n",
       "      <td>25.3</td>\n",
       "      <td>84.0</td>\n",
       "      <td>198.0</td>\n",
       "      <td>131.4</td>\n",
       "      <td>40.0</td>\n",
       "      <td>5.00</td>\n",
       "      <td>4.8903</td>\n",
       "      <td>89.0</td>\n",
       "    </tr>\n",
       "    <tr>\n",
       "      <th>4</th>\n",
       "      <td>50.0</td>\n",
       "      <td>1.0</td>\n",
       "      <td>23.0</td>\n",
       "      <td>101.0</td>\n",
       "      <td>192.0</td>\n",
       "      <td>125.4</td>\n",
       "      <td>52.0</td>\n",
       "      <td>4.00</td>\n",
       "      <td>4.2905</td>\n",
       "      <td>80.0</td>\n",
       "    </tr>\n",
       "    <tr>\n",
       "      <th>5</th>\n",
       "      <td>23.0</td>\n",
       "      <td>1.0</td>\n",
       "      <td>22.6</td>\n",
       "      <td>89.0</td>\n",
       "      <td>139.0</td>\n",
       "      <td>64.8</td>\n",
       "      <td>61.0</td>\n",
       "      <td>2.00</td>\n",
       "      <td>4.1897</td>\n",
       "      <td>68.0</td>\n",
       "    </tr>\n",
       "    <tr>\n",
       "      <th>6</th>\n",
       "      <td>36.0</td>\n",
       "      <td>2.0</td>\n",
       "      <td>22.0</td>\n",
       "      <td>90.0</td>\n",
       "      <td>160.0</td>\n",
       "      <td>99.6</td>\n",
       "      <td>50.0</td>\n",
       "      <td>3.00</td>\n",
       "      <td>3.9512</td>\n",
       "      <td>82.0</td>\n",
       "    </tr>\n",
       "    <tr>\n",
       "      <th>7</th>\n",
       "      <td>66.0</td>\n",
       "      <td>2.0</td>\n",
       "      <td>26.2</td>\n",
       "      <td>114.0</td>\n",
       "      <td>255.0</td>\n",
       "      <td>185.0</td>\n",
       "      <td>56.0</td>\n",
       "      <td>4.55</td>\n",
       "      <td>4.2485</td>\n",
       "      <td>92.0</td>\n",
       "    </tr>\n",
       "    <tr>\n",
       "      <th>8</th>\n",
       "      <td>60.0</td>\n",
       "      <td>2.0</td>\n",
       "      <td>32.1</td>\n",
       "      <td>83.0</td>\n",
       "      <td>179.0</td>\n",
       "      <td>119.4</td>\n",
       "      <td>42.0</td>\n",
       "      <td>4.00</td>\n",
       "      <td>4.4773</td>\n",
       "      <td>94.0</td>\n",
       "    </tr>\n",
       "    <tr>\n",
       "      <th>9</th>\n",
       "      <td>29.0</td>\n",
       "      <td>1.0</td>\n",
       "      <td>30.0</td>\n",
       "      <td>85.0</td>\n",
       "      <td>180.0</td>\n",
       "      <td>93.4</td>\n",
       "      <td>43.0</td>\n",
       "      <td>4.00</td>\n",
       "      <td>5.3845</td>\n",
       "      <td>88.0</td>\n",
       "    </tr>\n",
       "  </tbody>\n",
       "</table>\n",
       "</div>"
      ],
      "text/plain": [
       "    age  sex   bmi     bp     s1     s2    s3    s4      s5    s6\n",
       "0  59.0  2.0  32.1  101.0  157.0   93.2  38.0  4.00  4.8598  87.0\n",
       "1  48.0  1.0  21.6   87.0  183.0  103.2  70.0  3.00  3.8918  69.0\n",
       "2  72.0  2.0  30.5   93.0  156.0   93.6  41.0  4.00  4.6728  85.0\n",
       "3  24.0  1.0  25.3   84.0  198.0  131.4  40.0  5.00  4.8903  89.0\n",
       "4  50.0  1.0  23.0  101.0  192.0  125.4  52.0  4.00  4.2905  80.0\n",
       "5  23.0  1.0  22.6   89.0  139.0   64.8  61.0  2.00  4.1897  68.0\n",
       "6  36.0  2.0  22.0   90.0  160.0   99.6  50.0  3.00  3.9512  82.0\n",
       "7  66.0  2.0  26.2  114.0  255.0  185.0  56.0  4.55  4.2485  92.0\n",
       "8  60.0  2.0  32.1   83.0  179.0  119.4  42.0  4.00  4.4773  94.0\n",
       "9  29.0  1.0  30.0   85.0  180.0   93.4  43.0  4.00  5.3845  88.0"
      ]
     },
     "execution_count": 3,
     "metadata": {},
     "output_type": "execute_result"
    }
   ],
   "source": [
    "# Check a Sample from the Dataset\n",
    "X.head(10)"
   ]
  },
  {
   "cell_type": "code",
   "execution_count": 4,
   "metadata": {},
   "outputs": [
    {
     "data": {
      "text/html": [
       "<div>\n",
       "<style scoped>\n",
       "    .dataframe tbody tr th:only-of-type {\n",
       "        vertical-align: middle;\n",
       "    }\n",
       "\n",
       "    .dataframe tbody tr th {\n",
       "        vertical-align: top;\n",
       "    }\n",
       "\n",
       "    .dataframe thead th {\n",
       "        text-align: right;\n",
       "    }\n",
       "</style>\n",
       "<table border=\"1\" class=\"dataframe\">\n",
       "  <thead>\n",
       "    <tr style=\"text-align: right;\">\n",
       "      <th></th>\n",
       "      <th>count</th>\n",
       "      <th>mean</th>\n",
       "      <th>std</th>\n",
       "      <th>min</th>\n",
       "      <th>25%</th>\n",
       "      <th>50%</th>\n",
       "      <th>75%</th>\n",
       "      <th>max</th>\n",
       "    </tr>\n",
       "  </thead>\n",
       "  <tbody>\n",
       "    <tr>\n",
       "      <th>age</th>\n",
       "      <td>442.0</td>\n",
       "      <td>48.518100</td>\n",
       "      <td>13.109028</td>\n",
       "      <td>19.0000</td>\n",
       "      <td>38.2500</td>\n",
       "      <td>50.00000</td>\n",
       "      <td>59.0000</td>\n",
       "      <td>79.000</td>\n",
       "    </tr>\n",
       "    <tr>\n",
       "      <th>sex</th>\n",
       "      <td>442.0</td>\n",
       "      <td>1.468326</td>\n",
       "      <td>0.499561</td>\n",
       "      <td>1.0000</td>\n",
       "      <td>1.0000</td>\n",
       "      <td>1.00000</td>\n",
       "      <td>2.0000</td>\n",
       "      <td>2.000</td>\n",
       "    </tr>\n",
       "    <tr>\n",
       "      <th>bmi</th>\n",
       "      <td>442.0</td>\n",
       "      <td>26.375792</td>\n",
       "      <td>4.418122</td>\n",
       "      <td>18.0000</td>\n",
       "      <td>23.2000</td>\n",
       "      <td>25.70000</td>\n",
       "      <td>29.2750</td>\n",
       "      <td>42.200</td>\n",
       "    </tr>\n",
       "    <tr>\n",
       "      <th>bp</th>\n",
       "      <td>442.0</td>\n",
       "      <td>94.647014</td>\n",
       "      <td>13.831283</td>\n",
       "      <td>62.0000</td>\n",
       "      <td>84.0000</td>\n",
       "      <td>93.00000</td>\n",
       "      <td>105.0000</td>\n",
       "      <td>133.000</td>\n",
       "    </tr>\n",
       "    <tr>\n",
       "      <th>s1</th>\n",
       "      <td>442.0</td>\n",
       "      <td>189.140271</td>\n",
       "      <td>34.608052</td>\n",
       "      <td>97.0000</td>\n",
       "      <td>164.2500</td>\n",
       "      <td>186.00000</td>\n",
       "      <td>209.7500</td>\n",
       "      <td>301.000</td>\n",
       "    </tr>\n",
       "    <tr>\n",
       "      <th>s2</th>\n",
       "      <td>442.0</td>\n",
       "      <td>115.439140</td>\n",
       "      <td>30.413081</td>\n",
       "      <td>41.6000</td>\n",
       "      <td>96.0500</td>\n",
       "      <td>113.00000</td>\n",
       "      <td>134.5000</td>\n",
       "      <td>242.400</td>\n",
       "    </tr>\n",
       "    <tr>\n",
       "      <th>s3</th>\n",
       "      <td>442.0</td>\n",
       "      <td>49.788462</td>\n",
       "      <td>12.934202</td>\n",
       "      <td>22.0000</td>\n",
       "      <td>40.2500</td>\n",
       "      <td>48.00000</td>\n",
       "      <td>57.7500</td>\n",
       "      <td>99.000</td>\n",
       "    </tr>\n",
       "    <tr>\n",
       "      <th>s4</th>\n",
       "      <td>442.0</td>\n",
       "      <td>4.070249</td>\n",
       "      <td>1.290450</td>\n",
       "      <td>2.0000</td>\n",
       "      <td>3.0000</td>\n",
       "      <td>4.00000</td>\n",
       "      <td>5.0000</td>\n",
       "      <td>9.090</td>\n",
       "    </tr>\n",
       "    <tr>\n",
       "      <th>s5</th>\n",
       "      <td>442.0</td>\n",
       "      <td>4.641411</td>\n",
       "      <td>0.522391</td>\n",
       "      <td>3.2581</td>\n",
       "      <td>4.2767</td>\n",
       "      <td>4.62005</td>\n",
       "      <td>4.9972</td>\n",
       "      <td>6.107</td>\n",
       "    </tr>\n",
       "    <tr>\n",
       "      <th>s6</th>\n",
       "      <td>442.0</td>\n",
       "      <td>91.260181</td>\n",
       "      <td>11.496335</td>\n",
       "      <td>58.0000</td>\n",
       "      <td>83.2500</td>\n",
       "      <td>91.00000</td>\n",
       "      <td>98.0000</td>\n",
       "      <td>124.000</td>\n",
       "    </tr>\n",
       "  </tbody>\n",
       "</table>\n",
       "</div>"
      ],
      "text/plain": [
       "     count        mean        std      min       25%        50%       75%  \\\n",
       "age  442.0   48.518100  13.109028  19.0000   38.2500   50.00000   59.0000   \n",
       "sex  442.0    1.468326   0.499561   1.0000    1.0000    1.00000    2.0000   \n",
       "bmi  442.0   26.375792   4.418122  18.0000   23.2000   25.70000   29.2750   \n",
       "bp   442.0   94.647014  13.831283  62.0000   84.0000   93.00000  105.0000   \n",
       "s1   442.0  189.140271  34.608052  97.0000  164.2500  186.00000  209.7500   \n",
       "s2   442.0  115.439140  30.413081  41.6000   96.0500  113.00000  134.5000   \n",
       "s3   442.0   49.788462  12.934202  22.0000   40.2500   48.00000   57.7500   \n",
       "s4   442.0    4.070249   1.290450   2.0000    3.0000    4.00000    5.0000   \n",
       "s5   442.0    4.641411   0.522391   3.2581    4.2767    4.62005    4.9972   \n",
       "s6   442.0   91.260181  11.496335  58.0000   83.2500   91.00000   98.0000   \n",
       "\n",
       "         max  \n",
       "age   79.000  \n",
       "sex    2.000  \n",
       "bmi   42.200  \n",
       "bp   133.000  \n",
       "s1   301.000  \n",
       "s2   242.400  \n",
       "s3    99.000  \n",
       "s4     9.090  \n",
       "s5     6.107  \n",
       "s6   124.000  "
      ]
     },
     "execution_count": 4,
     "metadata": {},
     "output_type": "execute_result"
    }
   ],
   "source": [
    "# Check Descriptive Statistics of the Dataset\n",
    "X.describe().T"
   ]
  },
  {
   "cell_type": "code",
   "execution_count": 5,
   "metadata": {},
   "outputs": [
    {
     "data": {
      "text/plain": [
       "[59.0, 48.0, 72.0, 24.0, 50.0, 23.0, 36.0, 66.0, 60.0, 29.0]"
      ]
     },
     "execution_count": 5,
     "metadata": {},
     "output_type": "execute_result"
    }
   ],
   "source": [
    "list(X['age'][0:10])"
   ]
  },
  {
   "attachments": {},
   "cell_type": "markdown",
   "metadata": {},
   "source": [
    "- Few observations from the descriptive statistics\n",
    "    - The `age` feature is in range [18, 79], indicating patients ranging from 18 to 79 years old. \n",
    "    - The `bmi` feature is in range [18, 42], indicating patients with body mass index of 18 to 42.\n",
    "    - The `s1` feature is in range [97, 301], indicating patients with total serum cholesterol of 97 to 301.\n",
    "    - ...\n",
    "- As we can see here, every feature has a different range. \n",
    "- When we use these features to build a Machine Learning model, the learning algorithm won’t differentiate that values 18-79 and 97-301 represent two different things `age` and `s1-total serum cholesterol`. It will end up treating them both as numbers. \n",
    "- As the numbers for total serum cholesterol i.e. 97-301 are much bigger in value compared to the numbers representing the age, the learning algorithm might end up giving more importance to total serum cholesterol over the age, `regardless of which variable is actually more helpful` in generating predictions. \n",
    "- **To avoid such an issue we prefer to transform the features into the same or very similar range, `i.e. a fixed scale`.**"
   ]
  },
  {
   "attachments": {},
   "cell_type": "markdown",
   "metadata": {},
   "source": [
    "## Different Types of Feature Scaling"
   ]
  },
  {
   "attachments": {},
   "cell_type": "markdown",
   "metadata": {},
   "source": [
    "- **`Normalization (Min-Max Scaling)`** and **`Standardization (Standard Scaling)`** are the two of the most widely used methods for feature scaling. \n",
    "- Normalization transforms each feature to a range of [0 - 1]. On the other hand, standardization scales each input variable by subtracting the mean and dividing by the standard deviation, resulting in a distribution (almost!) with a mean of zero and a standard deviation of one. "
   ]
  },
  {
   "attachments": {},
   "cell_type": "markdown",
   "metadata": {},
   "source": [
    "### Normalization"
   ]
  },
  {
   "attachments": {},
   "cell_type": "markdown",
   "metadata": {},
   "source": [
    "Let's consider a sample from our dataset with $age = \\{59.0, 48.0, 72.0, 24.0, 50.0, 23.0, 36.0, 66.0, 60.0, 29.0\\}$. We can use following equation to Normalize the data. After Normalization, our sample transformed to $age = \\{0.73, 0.51, 1.0, 0.02, 0.55, 0.0, 0.27, 0.88, 0.76, 0.12\\}$. "
   ]
  },
  {
   "attachments": {},
   "cell_type": "markdown",
   "metadata": {},
   "source": [
    "$$s' = \\frac{s - \\min(S)}{\\max(S) - \\min(S)} $$"
   ]
  },
  {
   "cell_type": "code",
   "execution_count": 6,
   "metadata": {},
   "outputs": [
    {
     "name": "stdout",
     "output_type": "stream",
     "text": [
      "First 10 Age Values before Normalization: [59.0, 48.0, 72.0, 24.0, 50.0, 23.0, 36.0, 66.0, 60.0, 29.0]\n",
      "First 10 Age Values after Normalization: [0.73, 0.51, 1.0, 0.02, 0.55, 0.0, 0.27, 0.88, 0.76, 0.12]\n"
     ]
    }
   ],
   "source": [
    "age_sample = list(X['age'][:10])\n",
    "normalized_age = [((age - min(age_sample))/(max(age_sample) - min(age_sample))) for age in age_sample]\n",
    "normalized_age = [round(age, 2) for age in normalized_age]\n",
    "print(f\"First 10 Age Values before Normalization: {age_sample}\")\n",
    "print(f\"First 10 Age Values after Normalization: {normalized_age}\")"
   ]
  },
  {
   "attachments": {},
   "cell_type": "markdown",
   "metadata": {},
   "source": [
    "- In this example, we can see that the data point with 72 years of age is scaled to 1.0 as 72 is the maximum number out of those 10 samples of age from our dataset. Similarly data point with 23 years of age is scaled to 0.0 as 23 is the minimum number out of those 10 samples of age from our dataset. \n",
    "- Here key point to observe is that the scaling operation is executed based on the minimum and maximum of those 10 samples and not all the samples of the dataset."
   ]
  },
  {
   "attachments": {},
   "cell_type": "markdown",
   "metadata": {},
   "source": [
    "- Instead of the range $[0, 1]$, if we are interested to transform in some arbitrary range $[a, b]$ we can use following equation to Normalize the data."
   ]
  },
  {
   "attachments": {},
   "cell_type": "markdown",
   "metadata": {},
   "source": [
    "$$s' = a + \\frac{\\big(s - \\min(S)\\big) \\big(b - a\\big)}{\\max(S) - \\min(S)} "
   ]
  },
  {
   "attachments": {},
   "cell_type": "markdown",
   "metadata": {},
   "source": [
    "For example, we can transform $age = \\{59.0, 48.0, 72.0, 24.0, 50.0, 23.0, 36.0, 66.0, 60.0, 29.0\\}$ in the range $[-1, 1]$ to get scaled dataset $age = \\{0.47, 0.02, 1.0, -0.96, 0.1, -1.0, -0.47, 0.76, 0.51, -0.76\\}$."
   ]
  },
  {
   "cell_type": "code",
   "execution_count": 7,
   "metadata": {},
   "outputs": [
    {
     "name": "stdout",
     "output_type": "stream",
     "text": [
      "First 10 Age Values before Normalization: [59.0, 48.0, 72.0, 24.0, 50.0, 23.0, 36.0, 66.0, 60.0, 29.0]\n",
      "First 10 Age Values after Normalization: [0.47, 0.02, 1.0, -0.96, 0.1, -1.0, -0.47, 0.76, 0.51, -0.76]\n"
     ]
    }
   ],
   "source": [
    "a, b = -1, 1\n",
    "age_sample = list(X['age'][:10])\n",
    "normalized_age = []\n",
    "for age in age_sample:\n",
    "    numerator = (age - min(age_sample))*(b - a)\n",
    "    denominator = max(age_sample) - min(age_sample)\n",
    "    normalized_age.append(a + (numerator/denominator))\n",
    "normalized_age = [round(a, 2) for a in normalized_age]\n",
    "print(f\"First 10 Age Values before Normalization: {age_sample}\")\n",
    "print(f\"First 10 Age Values after Normalization: {normalized_age}\")"
   ]
  },
  {
   "cell_type": "markdown",
   "metadata": {},
   "source": [
    "- In this example, we can see that the data point with 72 years of age is scaled to 1.0 as 72 is the maximum number out of those 10 samples of age from our dataset. Similarly data point with 23 years of age is scaled to -1.0 as 23 is the minimum number out of those 10 samples of age from our dataset. \n",
    "- Here key point to observe is that the scaling operation is executed based on the minimum and maximum of those 10 samples and not all the samples of the dataset."
   ]
  },
  {
   "attachments": {},
   "cell_type": "markdown",
   "metadata": {},
   "source": [
    "### Standardization"
   ]
  },
  {
   "attachments": {},
   "cell_type": "markdown",
   "metadata": {},
   "source": [
    "Let's consider a sample from our dataset with $age = \\{59.0, 48.0, 72.0, 24.0, 50.0, 23.0, 36.0, 66.0, 60.0, 29.0\\}$. We can use following equation to Standardize the data. After Standardization, our sample transformed to $age = \\{0.73, 0.08, 1.5, -1.34, 0.2, -1.4, -0.63, 1.14, 0.79, -1.05\\}$. "
   ]
  },
  {
   "attachments": {},
   "cell_type": "markdown",
   "metadata": {},
   "source": [
    "$$s' = \\frac{s - mean(S)}{std(S)}$$"
   ]
  },
  {
   "cell_type": "code",
   "execution_count": 8,
   "metadata": {},
   "outputs": [
    {
     "name": "stdout",
     "output_type": "stream",
     "text": [
      "First 10 Age Values before Standardization: [59.0, 48.0, 72.0, 24.0, 50.0, 23.0, 36.0, 66.0, 60.0, 29.0]\n",
      "First 10 Age Values after Standardization: [0.73, 0.08, 1.5, -1.34, 0.2, -1.4, -0.63, 1.14, 0.79, -1.05]\n"
     ]
    }
   ],
   "source": [
    "age_sample = list(X['age'][:10])\n",
    "standardize_age = [((age - np.average(age_sample))/np.std(age_sample)) for age in age_sample]\n",
    "standardize_age = [round(age, 2) for age in standardize_age]\n",
    "print(f\"First 10 Age Values before Standardization: {age_sample}\")\n",
    "print(f\"First 10 Age Values after Standardization: {standardize_age}\")"
   ]
  },
  {
   "attachments": {},
   "cell_type": "markdown",
   "metadata": {},
   "source": [
    "### Robust Scaling"
   ]
  },
  {
   "attachments": {},
   "cell_type": "markdown",
   "metadata": {},
   "source": [
    "- Standardization scales the data such that the mean of values after scaling becomes zero and the standard deviation of values after scaling becomes one. This way it transforms the data such that it follows the `standard normal distribution`. \n",
    "- It uses `mean` and `standard deviation` of original data to perform scaling. Usually Mean and Standard Deviation is very sensitive to **`outliers`**."
   ]
  },
  {
   "attachments": {},
   "cell_type": "markdown",
   "metadata": {},
   "source": [
    "> **`outliers`**. are the values on the edge of the distribution that may have a low probability of occurrence, yet are overrepresented for some reason. Outliers can skew a probability distribution and make data scaling using standardization difficult as the calculated mean and standard deviation will be skewed by the presence of the outliers. $-$ Jason Brownlee from Machine Learning Mastery [URL](https://machinelearningmastery.com/robust-scaler-transforms-for-machine-learning/)."
   ]
  },
  {
   "attachments": {},
   "cell_type": "markdown",
   "metadata": {},
   "source": [
    "- `Meadian` i.e. `50th Percentile` is less sensitive to outliers and similarly `Inter-Quartile Range (IQR)` i.e. `IQR = (75th Percentile - 25th Percentile)` is also less sensitive to outliers. \n",
    "- Robust Scaling uses Median and IQR to scale the data."
   ]
  },
  {
   "attachments": {},
   "cell_type": "markdown",
   "metadata": {},
   "source": [
    "$$s' = \\frac{s - median(S)}{IQR(S)}$$"
   ]
  },
  {
   "attachments": {},
   "cell_type": "markdown",
   "metadata": {},
   "source": [
    "Let's consider a sample from our dataset with $age = \\{59.0, 48.0, 72.0, 24.0, 50.0, 23.0, 36.0, 66.0, 60.0, 29.0, 8.0, 10.0, 5.0\\}$. We can use the above equation to scale the data. After scaling, our sample transformed to $age = \\{0.64, 0.33, 1.0, -0.33, 0.39, -0.36, 0.0, 0.83, 0.67, -0.19, -0.78, -0.72, -0.86\\}$. \n",
    "\n",
    "Here the key point to observe is that we have purposefully added three some outlier samples (8.0, 10.0, and 5.0)  in the `age` feature."
   ]
  },
  {
   "cell_type": "code",
   "execution_count": 11,
   "metadata": {},
   "outputs": [
    {
     "name": "stdout",
     "output_type": "stream",
     "text": [
      "First 10 Age Values before Robust Scaling: [59.0, 48.0, 72.0, 24.0, 50.0, 23.0, 36.0, 66.0, 60.0, 29.0, 8.0, 10.0, 5.0]\n",
      "First 10 Age Values after Robust Scaling: [0.64, 0.33, 1.0, -0.33, 0.39, -0.36, 0.0, 0.83, 0.67, -0.19, -0.78, -0.72, -0.86]\n"
     ]
    }
   ],
   "source": [
    "age_sample = list(X['age'][:10])\n",
    "age_sample.extend([8.0, 10.0, 5.0])\n",
    "IQR = np.subtract(*np.percentile(age_sample, [75, 25]))\n",
    "robust_scaled_age = [((age - np.median(age_sample))/IQR) for age in age_sample]\n",
    "robust_scaled_age = [round(age, 2) for age in robust_scaled_age]\n",
    "print(f\"First 10 Age Values before Robust Scaling: {age_sample}\")\n",
    "print(f\"First 10 Age Values after Robust Scaling: {robust_scaled_age}\")"
   ]
  },
  {
   "attachments": {},
   "cell_type": "markdown",
   "metadata": {},
   "source": [
    "## How to Choose Scaling Type?"
   ]
  },
  {
   "attachments": {},
   "cell_type": "markdown",
   "metadata": {},
   "source": [
    "Even though there are no fix rules for selecting scaler, broadly the Selection depends on `Outliers` and `Understanding of Features`.\n",
    "\n",
    "The selection of feature scaling depends on couple of factors:\n",
    "\n",
    "1. **Understanding of Features**\n",
    "    - There some features where `Min` and `Max` values from the dataset might not correspond to the actual possible `Min` and `Max` values for a feature. From statistical perspective, `Min` and `Max` of sample doesn't always define the `Min` and `Max` of population. In such cases, `Standardization` or `RobustScaling` would be a better choice over `Normalization`. \n",
    "    \n",
    "    - For example, in our dataset, the minimum `age` is 19 years. We are intending to use this dataset to build a model which can predict a quantitative measure of diabetes disease progression one year after baseline. If we use `Normalization` for scaling, we are assuming that we will always receive patients aged 19 years or older. In future, if we receive a patient who is younger than the 19 years, the scaled `age` value for that patient will be a negative number and doesn't align with the original idea of scaling `age` in range [0, 1]. \n",
    "\n",
    "    - This can negatively impact the predictions of the model as model has never seen a data sample with negative age value during training process. \n",
    "    \n",
    "    - Similarly, the maximum `age` in our dataset is 79 years. If we receive a patient who is older than the 79 years, the scaled `age` value for that patient will be a greater than 1 which doesn't align with the original idea of scaling `age` in range [0, 1]. \n",
    "    \n",
    "    - \n",
    "\n",
    "\n",
    "\n",
    "If you don't have heavy `Outliers` in data, StandardScaler or MinMaxScaler could be used based on the `understanding of feature in real world`.\n",
    "\n",
    "1. There are some data where `Min` and `Max` value of the dataset doesn't correspond to the `Min` and `Max` value of real world data. For example `house price` : even though the dataset min is 300K $, it doesn't mean that in market there can not be a house lower than 300K. For such cases, Standard scaler is used.\n",
    "2. There are some data where `Min` and `Max` values are fix. For example Images stored in computer : Images are stored as `uint8` data type so it can have Min value of 0 and Max value of 255. In this case MinMax scaler is a better choice over StandardScaler."
   ]
  },
  {
   "attachments": {},
   "cell_type": "markdown",
   "metadata": {},
   "source": [
    "## Impact of Scaling"
   ]
  },
  {
   "attachments": {},
   "cell_type": "markdown",
   "metadata": {},
   "source": [
    "In this section we will compare different types "
   ]
  },
  {
   "cell_type": "code",
   "execution_count": 10,
   "metadata": {},
   "outputs": [
    {
     "data": {
      "image/png": "[encoded data removed]",
      "text/plain": [
       "<Figure size 2400x2400 with 4 Axes>"
      ]
     },
     "metadata": {
      "needs_background": "light"
     },
     "output_type": "display_data"
    }
   ],
   "source": [
    "normalization_scaler = MinMaxScaler()\n",
    "normalized_X = pd.DataFrame(normalization_scaler.fit_transform(X), columns=X.columns)\n",
    "\n",
    "fig, axs = plt.subplots(\n",
    "        nrows=2,\n",
    "        ncols=2,\n",
    "        figsize=(8, 8),\n",
    "        gridspec_kw={\"height_ratios\": (.20, .80)},\n",
    "        dpi=300,\n",
    "        constrained_layout=False\n",
    ")\n",
    "\n",
    "sns.boxplot(data=X, x='age', ax=axs[0][0])\n",
    "sns.histplot(data=X, x='age', ax=axs[1][0], kde=True, bins='sqrt')\n",
    "\n",
    "sns.boxplot(data=normalized_X, x='age', ax=axs[0][1])\n",
    "sns.histplot(data=normalized_X, x='age', ax=axs[1][1], kde=True, bins='sqrt')\n",
    "\n",
    "axs[0][0].set(xlabel='')\n",
    "axs[0][0].set_facecolor('white')\n",
    "axs[1][0].set_facecolor('white')\n",
    "\n",
    "axs[0][1].set(xlabel='')\n",
    "axs[0][1].set_facecolor('white')\n",
    "axs[1][1].set_facecolor('white')"
   ]
  },
  {
   "cell_type": "code",
   "execution_count": null,
   "metadata": {},
   "outputs": [],
   "source": []
  }
 ],
 "metadata": {
  "kernelspec": {
   "display_name": "base",
   "language": "python",
   "name": "python3"
  },
  "language_info": {
   "codemirror_mode": {
    "name": "ipython",
    "version": 3
   },
   "file_extension": ".py",
   "mimetype": "text/x-python",
   "name": "python",
   "nbconvert_exporter": "python",
   "pygments_lexer": "ipython3",
   "version": "3.8.8"
  },
  "orig_nbformat": 4,
  "vscode": {
   "interpreter": {
    "hash": "40d3a090f54c6569ab1632332b64b2c03c39dcf918b08424e98f38b5ae0af88f"
   }
  }
 },
 "nbformat": 4,
 "nbformat_minor": 2
}
